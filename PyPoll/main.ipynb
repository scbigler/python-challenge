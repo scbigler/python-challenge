{
 "cells": [
  {
   "cell_type": "code",
   "execution_count": 2,
   "metadata": {},
   "outputs": [
    {
     "name": "stdout",
     "output_type": "stream",
     "text": [
      "Total votes cast: 369711 100.0%\n",
      "Diana DeGette: 272892 73.8%\n",
      "Charles Casper Stockham: 85213 23.0%\n",
      "Raymon Anthony Doane: 11606 3.1%\n",
      "Diana DeGette is the winner with 272892 votes\n"
     ]
    }
   ],
   "source": [
    "\n",
    "# import dependancies \n",
    "import csv\n",
    "import os\n",
    "\n",
    "# Create a reference the CSV file desired\n",
    "csvpath = os.path.join(\"Resources\", \"election_data.csv\")\n",
    "\n",
    "# inidialize variables\n",
    "candidate1 = 0\n",
    "candidate1_name = 'Diana DeGette'\n",
    "candidate2 = 0\n",
    "candidate2_name = 'Charles Casper Stockham'\n",
    "candidate3 = 0\n",
    "candidate3_name = 'Raymon Anthony Doane'\n",
    "total_votes = 0\n",
    "\n",
    "\n",
    "# Loop though csv file \n",
    "with open(csvpath) as csvfile:\n",
    "    csvreader = csv.reader(csvfile, delimiter=\",\")\n",
    "    header = next(csvreader)\n",
    "    for row in csvreader:\n",
    "        # Conditionals to add up vote count and total votes cast\n",
    "        if row[2] == candidate1_name:\n",
    "            candidate1 = candidate1 + 1\n",
    "            total_votes = total_votes + 1\n",
    "        elif row[2] == candidate2_name:\n",
    "            candidate2 = candidate2 + 1\n",
    "            total_votes = total_votes + 1\n",
    "        elif row[2] == candidate3_name:\n",
    "            candidate3 = candidate3 + 1\n",
    "            total_votes = total_votes + 1\n",
    "        \n",
    "# Print total votes cast \n",
    "# print(f\"Total votes cast: {total_votes} ({total_votes/total_votes*100}%)\")\n",
    "\n",
    "out1 = \"Total votes cast: \" + str(total_votes) + \" \" + str(round((total_votes/total_votes*100),1)) + \"%\"\n",
    "print(out1)\n",
    "\n",
    "# Print total votes for each candidate \n",
    "# print(f\"{candidate1_name}: {candidate1} ({candidate1/total_votes*100}%)\")\n",
    "# print(f\"{candidate2_name}: {candidate2} ({candidate2/total_votes*100}%)\")\n",
    "# print(f\"{candidate3_name}: {candidate3} ({candidate3/total_votes*100}%)\")\n",
    "\n",
    "out2 = candidate1_name + \": \" + str(candidate1) + \" \" + str(round(candidate1/total_votes*100, 1)) + \"%\"\n",
    "out3 = candidate2_name + \": \" + str(candidate2) + \" \" + str(round(candidate2/total_votes*100, 1)) + \"%\"\n",
    "out4 = candidate3_name + \": \" + str(candidate3) + \" \" + str(round(candidate3/total_votes*100, 1)) + \"%\"\n",
    "print(out2)\n",
    "print(out3)\n",
    "print(out4)\n",
    "# Print winning candidate and his/her vote count \n",
    "results = {candidate1_name : candidate1, candidate2_name : candidate2, candidate3_name : candidate3}\n",
    "max_value = max(results.values ( ))\n",
    "max_key = max(results, key=results.get)\n",
    "# winner_count = max(candidate_vote_list)\n",
    "winner_count = max_value\n",
    "\n",
    "out5 = max_key + \" is the winner with \" + str(winner_count) + \" votes\"\n",
    "print(out5)\n",
    "# print(f'{max_key} is the winner with {winner_count} votes')\n",
    "\n",
    "\n",
    "\n",
    "    \n",
    "\n",
    "\n"
   ]
  },
  {
   "cell_type": "code",
   "execution_count": 4,
   "metadata": {},
   "outputs": [
    {
     "name": "stdout",
     "output_type": "stream",
     "text": [
      "[[['Total votes cast: 369711 100.0%'], ['Diana DeGette: 272892 73.8%'], ['Charles Casper Stockham: 85213 23.0%'], ['Raymon Anthony Doane: 11606 3.1%'], ['Diana DeGette is the winner with 272892 votes']]]\n"
     ]
    }
   ],
   "source": [
    "out_list = [[out1], [out2], [out3], [out4], [out5]]\n",
    "# print([out_list])"
   ]
  },
  {
   "cell_type": "markdown",
   "metadata": {},
   "source": []
  },
  {
   "cell_type": "code",
   "execution_count": 7,
   "metadata": {},
   "outputs": [],
   "source": [
    "\n",
    "# Send results to output csv file\n",
    "outputfile = os.path.join(\"Analysis/poll_results.csv\")\n",
    "\n",
    "with open(outputfile, \"w\") as csvoutfile:\n",
    "     csvwriter = csv.writer(csvoutfile, delimiter=',')\n",
    "     for i in range(len(out_list)):\n",
    "        csvwriter.writerow(out_list[i])\n",
    "\n",
    "    \n",
    "    \n",
    "    \n"
   ]
  },
  {
   "cell_type": "code",
   "execution_count": null,
   "metadata": {},
   "outputs": [],
   "source": []
  }
 ],
 "metadata": {
  "kernelspec": {
   "display_name": "Python 3.9.12 ('base')",
   "language": "python",
   "name": "python3"
  },
  "language_info": {
   "codemirror_mode": {
    "name": "ipython",
    "version": 3
   },
   "file_extension": ".py",
   "mimetype": "text/x-python",
   "name": "python",
   "nbconvert_exporter": "python",
   "pygments_lexer": "ipython3",
   "version": "3.9.12"
  },
  "orig_nbformat": 4,
  "vscode": {
   "interpreter": {
    "hash": "836d2a737f345f770091c2a0c0b83549937904d5f6f9008ba9ac2389b7758057"
   }
  }
 },
 "nbformat": 4,
 "nbformat_minor": 2
}
